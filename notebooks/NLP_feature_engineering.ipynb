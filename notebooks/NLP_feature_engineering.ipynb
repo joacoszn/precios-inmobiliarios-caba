{
 "cells": [
  {
   "cell_type": "markdown",
   "id": "82ce29eb-b797-4d86-9523-d4981b93fc4b",
   "metadata": {},
   "source": [
    "# Cuaderno de Ingeniería de Características con NLP\n",
    " \n",
    "## **Objetivo:** Analizar la columna `description` para extraer nuevas características que mejoren el rendimiento de nuestro modelo de predicción de precios.\n",
    "\n",
    "# Fase 1: Carga de Datos y Preparación del Texto"
   ]
  },
  {
   "cell_type": "code",
   "execution_count": 1,
   "id": "48b7e898-9fde-450f-8850-b042bf0e58e5",
   "metadata": {},
   "outputs": [
    {
     "name": "stdout",
     "output_type": "stream",
     "text": [
      "✅ Conectado a la base de datos. Cargando descripciones...\n",
      "✅ Se cargaron 50266 descripciones.\n"
     ]
    },
    {
     "data": {
      "text/html": [
       "<div>\n",
       "<style scoped>\n",
       "    .dataframe tbody tr th:only-of-type {\n",
       "        vertical-align: middle;\n",
       "    }\n",
       "\n",
       "    .dataframe tbody tr th {\n",
       "        vertical-align: top;\n",
       "    }\n",
       "\n",
       "    .dataframe thead th {\n",
       "        text-align: right;\n",
       "    }\n",
       "</style>\n",
       "<table border=\"1\" class=\"dataframe\">\n",
       "  <thead>\n",
       "    <tr style=\"text-align: right;\">\n",
       "      <th></th>\n",
       "      <th>description</th>\n",
       "      <th>price_usd</th>\n",
       "    </tr>\n",
       "  </thead>\n",
       "  <tbody>\n",
       "    <tr>\n",
       "      <th>0</th>\n",
       "      <td>Venta departamento de 3 ambientes con balcón, ...</td>\n",
       "      <td>94500.0</td>\n",
       "    </tr>\n",
       "    <tr>\n",
       "      <th>1</th>\n",
       "      <td>Ventaluminoso departamento de 4 ambientes con ...</td>\n",
       "      <td>190000.0</td>\n",
       "    </tr>\n",
       "    <tr>\n",
       "      <th>2</th>\n",
       "      <td>Corredor Responsable: Ariel Champanier cucicba...</td>\n",
       "      <td>44500.0</td>\n",
       "    </tr>\n",
       "    <tr>\n",
       "      <th>3</th>\n",
       "      <td>Departamento o estudio profesional.</td>\n",
       "      <td>327420.0</td>\n",
       "    </tr>\n",
       "    <tr>\n",
       "      <th>4</th>\n",
       "      <td>Corredor Responsable: Raul Hector Merlo cucicb...</td>\n",
       "      <td>345000.0</td>\n",
       "    </tr>\n",
       "  </tbody>\n",
       "</table>\n",
       "</div>"
      ],
      "text/plain": [
       "                                         description  price_usd\n",
       "0  Venta departamento de 3 ambientes con balcón, ...    94500.0\n",
       "1  Ventaluminoso departamento de 4 ambientes con ...   190000.0\n",
       "2  Corredor Responsable: Ariel Champanier cucicba...    44500.0\n",
       "3               Departamento o estudio profesional.    327420.0\n",
       "4  Corredor Responsable: Raul Hector Merlo cucicb...   345000.0"
      ]
     },
     "metadata": {},
     "output_type": "display_data"
    }
   ],
   "source": [
    "import pandas as pd\n",
    "from sqlalchemy import create_engine\n",
    "import os\n",
    "from dotenv import load_dotenv\n",
    "import warnings\n",
    "import re\n",
    "import nltk\n",
    "from nltk.corpus import stopwords\n",
    "from collections import Counter\n",
    "import matplotlib.pyplot as plt\n",
    "import seaborn as sns\n",
    "\n",
    "# Ignorar advertencias para una salida más limpia\n",
    "warnings.simplefilter(action='ignore', category=FutureWarning)\n",
    "\n",
    "# Descargar recursos de NLTK (solo la primera vez)\n",
    "try:\n",
    "    stopwords.words('spanish')\n",
    "except LookupError:\n",
    "    print(\"Descargando recursos de NLTK (stopwords)...\")\n",
    "    nltk.download('stopwords')\n",
    "\n",
    "# Cargar las variables de entorno\n",
    "load_dotenv(dotenv_path='../.env')\n",
    "\n",
    "def get_descriptions_from_db():\n",
    "    \"\"\"\n",
    "    Se conecta a la base de datos y carga las columnas 'description' y 'price_usd'.\n",
    "    \"\"\"\n",
    "    try:\n",
    "        db_user = os.getenv(\"DB_USER\")\n",
    "        db_password = os.getenv(\"DB_PASSWORD\")\n",
    "        db_host = os.getenv(\"DB_HOST\")\n",
    "        db_name = os.getenv(\"DB_NAME\")\n",
    "        \n",
    "        db_uri = f\"mysql+mysqlconnector://{db_user}:{db_password}@{db_host}/{db_name}\"\n",
    "        engine = create_engine(db_uri)\n",
    "        \n",
    "        print(\"✅ Conectado a la base de datos. Cargando descripciones...\")\n",
    "        query = \"SELECT description, price_usd FROM propiedades WHERE description IS NOT NULL AND description != ''\"\n",
    "        df = pd.read_sql(query, engine)\n",
    "        print(f\"✅ Se cargaron {len(df)} descripciones.\")\n",
    "        return df\n",
    "    except Exception as e:\n",
    "        print(f\"❌ Error al cargar datos desde MySQL: {e}\")\n",
    "        return None\n",
    "\n",
    "# Cargar los datos\n",
    "df_nlp = get_descriptions_from_db()\n",
    "\n",
    "if df_nlp is not None:\n",
    "    display(df_nlp.head())\n"
   ]
  },
  {
   "cell_type": "markdown",
   "id": "a3cb2ba5-4b64-4f66-bdd3-516ebdaea727",
   "metadata": {},
   "source": [
    "# Fase 2: Limpieza de Texto y Tokenización\n",
    "\n",
    "Crear una función para pre-procesar el texto: convertir a minúsculas, eliminar puntuación, números y \"stopwords\" (palabras comunes como 'de', 'la', 'que', etc.)."
   ]
  },
  {
   "cell_type": "code",
   "execution_count": 2,
   "id": "997b2fc6-afd2-4f8a-ac35-7d4f8172d5b0",
   "metadata": {},
   "outputs": [
    {
     "name": "stderr",
     "output_type": "stream",
     "text": [
      "100%|███████████████████████████████████| 50266/50266 [00:06<00:00, 7922.26it/s]"
     ]
    },
    {
     "name": "stdout",
     "output_type": "stream",
     "text": [
      "\n",
      "DataFrame con tokens (palabras limpias):\n"
     ]
    },
    {
     "name": "stderr",
     "output_type": "stream",
     "text": [
      "\n"
     ]
    },
    {
     "data": {
      "text/html": [
       "<div>\n",
       "<style scoped>\n",
       "    .dataframe tbody tr th:only-of-type {\n",
       "        vertical-align: middle;\n",
       "    }\n",
       "\n",
       "    .dataframe tbody tr th {\n",
       "        vertical-align: top;\n",
       "    }\n",
       "\n",
       "    .dataframe thead th {\n",
       "        text-align: right;\n",
       "    }\n",
       "</style>\n",
       "<table border=\"1\" class=\"dataframe\">\n",
       "  <thead>\n",
       "    <tr style=\"text-align: right;\">\n",
       "      <th></th>\n",
       "      <th>description</th>\n",
       "      <th>price_usd</th>\n",
       "      <th>tokens</th>\n",
       "    </tr>\n",
       "  </thead>\n",
       "  <tbody>\n",
       "    <tr>\n",
       "      <th>0</th>\n",
       "      <td>Venta departamento de 3 ambientes con balcón, ...</td>\n",
       "      <td>94500.0</td>\n",
       "      <td>[venta, departamento, ambientes, balcón, prime...</td>\n",
       "    </tr>\n",
       "    <tr>\n",
       "      <th>1</th>\n",
       "      <td>Ventaluminoso departamento de 4 ambientes con ...</td>\n",
       "      <td>190000.0</td>\n",
       "      <td>[ventaluminoso, departamento, ambientes, coche...</td>\n",
       "    </tr>\n",
       "    <tr>\n",
       "      <th>2</th>\n",
       "      <td>Corredor Responsable: Ariel Champanier cucicba...</td>\n",
       "      <td>44500.0</td>\n",
       "      <td>[corredor, responsable, ariel, champanier, cuc...</td>\n",
       "    </tr>\n",
       "    <tr>\n",
       "      <th>3</th>\n",
       "      <td>Departamento o estudio profesional.</td>\n",
       "      <td>327420.0</td>\n",
       "      <td>[departamento, estudio, profesional]</td>\n",
       "    </tr>\n",
       "    <tr>\n",
       "      <th>4</th>\n",
       "      <td>Corredor Responsable: Raul Hector Merlo cucicb...</td>\n",
       "      <td>345000.0</td>\n",
       "      <td>[corredor, responsable, raul, hector, merlo, c...</td>\n",
       "    </tr>\n",
       "  </tbody>\n",
       "</table>\n",
       "</div>"
      ],
      "text/plain": [
       "                                         description  price_usd  \\\n",
       "0  Venta departamento de 3 ambientes con balcón, ...    94500.0   \n",
       "1  Ventaluminoso departamento de 4 ambientes con ...   190000.0   \n",
       "2  Corredor Responsable: Ariel Champanier cucicba...    44500.0   \n",
       "3               Departamento o estudio profesional.    327420.0   \n",
       "4  Corredor Responsable: Raul Hector Merlo cucicb...   345000.0   \n",
       "\n",
       "                                              tokens  \n",
       "0  [venta, departamento, ambientes, balcón, prime...  \n",
       "1  [ventaluminoso, departamento, ambientes, coche...  \n",
       "2  [corredor, responsable, ariel, champanier, cuc...  \n",
       "3               [departamento, estudio, profesional]  \n",
       "4  [corredor, responsable, raul, hector, merlo, c...  "
      ]
     },
     "metadata": {},
     "output_type": "display_data"
    }
   ],
   "source": [
    "# Obtener lista de stopwords\n",
    "stop_words = set(stopwords.words('spanish'))\n",
    "\n",
    "def limpiar_texto(texto):\n",
    "    # Convertir a minúsculas\n",
    "    texto = texto.lower()\n",
    "    # Eliminar caracteres no alfabeticos\n",
    "    texto = re.sub(r'[^a-záéíóúüñ\\s]', '', texto)\n",
    "    # Tokenizar (dividir el texto en palabras)\n",
    "    palabras = texto.split()\n",
    "    # Eliminar stopwords\n",
    "    palabras_filtradas = [palabra for palabra in palabras if palabra not in stop_words and len(palabra) > 2]\n",
    "    return palabras_filtradas\n",
    "\n",
    "if df_nlp is not None:\n",
    "    # Aplicamos la limpieza a la columna 'description'\n",
    "    # 'tqdm' es una librería opcional que muestra una barra de progreso. \n",
    "    # Si no se tiene, sacar .progress_apply y usar .apply\n",
    "    try:\n",
    "        from tqdm import tqdm\n",
    "        tqdm.pandas()\n",
    "        df_nlp['tokens'] = df_nlp['description'].progress_apply(limpiar_texto)\n",
    "    except ImportError:\n",
    "        print(\"Librería 'tqdm' no encontrada. Aplicando sin barra de progreso...\")\n",
    "        df_nlp['tokens'] = df_nlp['description'].apply(limpiar_texto)\n",
    "        \n",
    "    print(\"\\nDataFrame con tokens (palabras limpias):\")\n",
    "    display(df_nlp.head())\n"
   ]
  },
  {
   "cell_type": "markdown",
   "id": "266d65dd-c4bb-44e4-b2f3-c858e667e3d8",
   "metadata": {},
   "source": [
    "# Fase 3: Análisis de Frecuencia de Palabras\n",
    "\n",
    "Ahora que se conocen las palabras limpias, hay que cuáles son las más comunes en todo el dataset."
   ]
  },
  {
   "cell_type": "code",
   "execution_count": 3,
   "id": "96bd6efd-3a36-40fe-acad-f1d353d9374a",
   "metadata": {},
   "outputs": [
    {
     "name": "stdout",
     "output_type": "stream",
     "text": [
      "Las 30 palabras más comunes en las descripciones son:\n"
     ]
    },
    {
     "data": {
      "text/plain": [
       "[('cocina', 58427),\n",
       " ('ambientes', 55239),\n",
       " ('departamento', 47583),\n",
       " ('baño', 45778),\n",
       " ('piso', 45458),\n",
       " ('balcón', 43524),\n",
       " ('edificio', 40693),\n",
       " ('propiedad', 40228),\n",
       " ('comedor', 39396),\n",
       " ('medidas', 39126),\n",
       " ('datos', 35150),\n",
       " ('living', 35099),\n",
       " ('expensas', 31785),\n",
       " ('frente', 31200),\n",
       " ('inmueble', 30477),\n",
       " ('completo', 30296),\n",
       " ('pisos', 29512),\n",
       " ('cuenta', 29374),\n",
       " ('ley', 29056),\n",
       " ('dormitorio', 27460),\n",
       " ('inmobiliario', 26252),\n",
       " ('venta', 25897),\n",
       " ('excelente', 25396),\n",
       " ('dormitorios', 24527),\n",
       " ('dos', 24058),\n",
       " ('presente', 23208),\n",
       " ('servicios', 23106),\n",
       " ('amplio', 23016),\n",
       " ('espacio', 22275),\n",
       " ('aviso', 21621)]"
      ]
     },
     "metadata": {},
     "output_type": "display_data"
    }
   ],
   "source": [
    "if df_nlp is not None:\n",
    "    # Juntamos todas las listas de tokens en una sola gran lista de palabras\n",
    "    todas_las_palabras = [palabra for lista_tokens in df_nlp['tokens'] for palabra in lista_tokens]\n",
    "    \n",
    "    # Contamos la frecuencia de cada palabra\n",
    "    conteo_palabras = Counter(todas_las_palabras)\n",
    "    \n",
    "    # Mostramos las 30 palabras más comunes\n",
    "    print(\"Las 30 palabras más comunes en las descripciones son:\")\n",
    "    display(conteo_palabras.most_common(30))\n"
   ]
  },
  {
   "cell_type": "markdown",
   "id": "070667eb-bc23-4f03-ae1c-c003fee35bf9",
   "metadata": {},
   "source": [
    "# Fase 4: Visualización de las Palabras Más Frecuentes\n",
    "\n",
    "Un gráfico de barras es una excelente manera de visualizar estos resultados."
   ]
  },
  {
   "cell_type": "code",
   "execution_count": 4,
   "id": "5e8081e8-eeb5-4d97-9160-1eccf93c4d8a",
   "metadata": {},
   "outputs": [
    {
     "data": {
      "image/png": "[encoded data removed]",
      "text/plain": [
       "<Figure size 1200x1000 with 1 Axes>"
      ]
     },
     "metadata": {},
     "output_type": "display_data"
    }
   ],
   "source": [
    "if 'conteo_palabras' in locals():\n",
    "    # Creamos un DataFrame a partir de los resultados del conteo\n",
    "    df_frecuencia = pd.DataFrame(conteo_palabras.most_common(25), columns=['palabra', 'frecuencia'])\n",
    "    \n",
    "    plt.figure(figsize=(12, 10))\n",
    "    sns.barplot(data=df_frecuencia, y='palabra', x='frecuencia', palette='viridis')\n",
    "    plt.title('Top 25 Palabras Más Frecuentes en las Descripciones', fontsize=16)\n",
    "    plt.xlabel('Frecuencia', fontsize=12)\n",
    "    plt.ylabel('Palabra', fontsize=12)\n",
    "    plt.tight_layout()\n",
    "    plt.show()"
   ]
  },
  {
   "cell_type": "code",
   "execution_count": null,
   "id": "3c06a959-4cdb-4224-8cea-83bcba04d2ba",
   "metadata": {},
   "outputs": [],
   "source": []
  }
 ],
 "metadata": {
  "kernelspec": {
   "display_name": "Python 3 (ipykernel)",
   "language": "python",
   "name": "python3"
  },
  "language_info": {
   "codemirror_mode": {
    "name": "ipython",
    "version": 3
   },
   "file_extension": ".py",
   "mimetype": "text/x-python",
   "name": "python",
   "nbconvert_exporter": "python",
   "pygments_lexer": "ipython3",
   "version": "3.12.3"
  }
 },
 "nbformat": 4,
 "nbformat_minor": 5
}
