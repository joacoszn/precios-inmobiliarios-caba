{
 "cells": [
  {
   "cell_type": "markdown",
   "id": "a1b2c3d4-e5f6-g7h8-i9j0-k1l2m3n4o5p6",
   "metadata": {},
   "source": [
    "# Análisis de Inversión Inmobiliaria en CABA\n",
    "\n",
    "**Objetivo:** Identificar oportunidades de inversión y entender las dinámicas de valor en el mercado inmobiliario de Buenos Aires."
   ]
  },
  {
   "cell_type": "code",
   "execution_count": null,
   "id": "b2c3d4e5-f6g7-h8i9-j0k1-l2m3n4o5p6q7",
   "metadata": {},
   "outputs": [],
   "source": [
    "import pandas as pd\n",
    "from sqlalchemy import create_engine\n",
    "import os\n",
    "import sys\n",
    "import warnings\n",
    "import matplotlib.pyplot as plt\n",
    "import seaborn as sns\n",
    "from dotenv import load_dotenv\n",
    "\n",
    "warnings.simplefilter(action='ignore', category=FutureWarning)\n",
    "\n",
    "load_dotenv(dotenv_path='../.env')\n",
    "\n",
    "def get_data_from_db():\n",
    "    try:\n",
    "        db_user = os.getenv(\"DB_USER\")\n",
    "        db_password = os.getenv(\"DB_PASSWORD\")\n",
    "        db_host = os.getenv(\"DB_HOST\")\n",
    "        db_name = os.getenv(\"DB_NAME\")\n",
    "        db_uri = f\"mysql+mysqlconnector://{db_user}:{db_password}@{db_host}/{db_name}\"\n",
    "        engine = create_engine(db_uri)\n",
    "        query = \"SELECT barrio, price_usd, superficie_total_m2, description FROM propiedades WHERE price_usd IS NOT NULL AND superficie_total_m2 > 0;\"\n",
    "        df = pd.read_sql(query, engine)\n",
    "        return df\n",
    "    except Exception as e:\n",
    "        print(f\"Error: {e}\")\n",
    "        return None\n",
    "\n",
    "df = get_data_from_db()\n",
    "\n",
    "if df is not None:\n",
    "    print(f\"Se cargaron {len(df)} registros.\")\n"
   ]
  },
  {
   "cell_type": "markdown",
   "id": "c2d3e4f5-g6h7-i8j9-k0l1-m2n3o4p5q6r7",
   "metadata": {},
   "source": [
    "## 1. Análisis de \"Joyas Ocultas\": Precio/m² vs. Amenities"
   ]
  },
  {
   "cell_type": "code",
   "execution_count": null,
   "id": "d3e4f5g6-h7i8-j9k0-l1m2-n3o4p5q6r7s8",
   "metadata": {},
   "outputs": [],
   "source": [
    "if df is not None:\n",
    "    df['precio_m2'] = df['price_usd'] / df['superficie_total_m2']\n",
    "\n",
    "    amenities = ['pileta', 'gimnasio', 'sum', 'parrilla', 'seguridad']\n",
    "    for amenity in amenities:\n",
    "        df[amenity] = df['description'].str.contains(amenity, case=False, na=False).astype(int)\n",
    "\n",
    "    df['amenities_score'] = df[amenities].sum(axis=1)\n",
    "\n",
    "    df_barrios = df.groupby('barrio').agg(\n",
    "        precio_m2_promedio=('precio_m2', 'mean'),\n",
    "        amenities_promedio=('amenities_score', 'mean'),\n",
    "        cantidad_propiedades=('barrio', 'size')\n",
    "    ).reset_index()\n",
    "\n",
    "    df_filtrado = df_barrios[df_barrios['cantidad_propiedades'] > 100]\n",
    "\n",
    "    plt.figure(figsize=(14, 10))\n",
    "    sns.scatterplot(data=df_filtrado, x='precio_m2_promedio', y='amenities_promedio', size='cantidad_propiedades', hue='barrio', sizes=(100, 2000), legend=False)\n",
    "\n",
    "    for i, row in df_filtrado.iterrows():\n",
    "        plt.text(row['precio_m2_promedio'], row['amenities_promedio'], row['barrio'], fontsize=9)\n",
    "\n",
    "    plt.title('Precio/m² vs. Score de Amenities por Barrio', fontsize=16)\n",
    "    plt.xlabel('Precio Promedio por m² (USD)', fontsize=12)\n",
    "    plt.ylabel('Score Promedio de Amenities', fontsize=12)\n",
    "    plt.grid(True)\n",
    "    \n",
    "    output_dir = \"../docs/images\"\n",
    "    os.makedirs(output_dir, exist_ok=True)\n",
    "    plt.savefig(os.path.join(output_dir, \"joyas_ocultas.png\"))\n",
    "    plt.show()\n"
   ]
  },
  {
   "cell_type": "markdown",
   "id": "e4f5g6h7-i8j9-k0l1-m2n3-o4p5q6r7s8t9",
   "metadata": {},
   "source": [
    "## 2. Análisis de Dispersión de Mercado: Volatilidad y Oportunidad\n",
    "\n",
    "El promedio es útil, pero no cuenta toda la historia. Un barrio con un precio promedio de USD 200,000 puede tener todas sus propiedades en un rango de 190k-210k (un mercado homogéneo) o puede tener propiedades desde 120k hasta 500k (un mercado heterogéneo y con mayor dispersión).\n",
    "\n",
    "Un **box plot** es la herramienta perfecta para visualizar esta dispersión."
   ]
  },
  {
   "cell_type": "code",
   "execution_count": null,
   "id": "f5g6h7i8-j9k0-l1m2-n3o4-p5q6r7s8t9u0",
   "metadata": {},
   "outputs": [],
   "source": [
    "if df is not None:\n",
    "    top_barrios = df['barrio'].value_counts().nlargest(6).index\n",
    "    df_dist = df[df['barrio'].isin(top_barrios) & (df['price_usd'] < 1000000)]\n",
    "\n",
    "    plt.figure(figsize=(14, 8))\n",
    "    sns.boxplot(data=df_dist, x='barrio', y='price_usd', palette=\"coolwarm\")\n",
    "    plt.title('Distribución de Precios en Barrios Seleccionados', fontsize=16)\n",
    "    plt.xlabel('Barrio', fontsize=12)\n",
    "    plt.ylabel('Precio (USD)', fontsize=12)\n",
    "    plt.xticks(rotation=45)\n",
    "    plt.tight_layout()\n",
    "    plt.savefig(os.path.join(output_dir, \"distribucion_precios_barrios.png\"))\n",
    "    plt.show()"
   ]
  },
  {
   "cell_type": "markdown",
   "id": "g6h7i8j9-k0l1-m2n3-o4p5-q6r7s8t9u0v1",
   "metadata": {},
   "source": [
    "### Interpretación del Box Plot\n",
    "\n",
    "*   **Cajas Altas (Gran Dispersión):** **Palermo y Recoleta** tienen las \"cajas\" más altas, lo que significa que el 50% central de sus propiedades abarca un rango de precios muy amplio. Esto indica un mercado muy heterogéneo, con propiedades de diferentes calidades y precios. **Insight:** En estos barrios es donde un comprador tiene más probabilidades de encontrar propiedades significativamente por debajo de la media (outliers inferiores), que pueden representar excelentes oportunidades de compra.\n",
    "*   **Cajas Cortas (Mercado Homogéneo):** **Caballito y Almagro** presentan cajas mucho más compactas. Esto sugiere que los precios son más consistentes y predecibles. Es un mercado más estable, ideal para compradores que buscan un valor seguro sin tanta volatilidad.\n",
    "*   **Mediana:** La línea horizontal dentro de cada caja representa el precio mediano (el valor del medio). Vemos cómo la mediana de Recoleta es la más alta, confirmando su posicionamiento como uno de los barrios más caros."
   ]
  }
 ],
 "metadata": {
  "kernelspec": {
   "display_name": "Python 3 (ipykernel)",
   "language": "python",
   "name": "python3"
  },
  "language_info": {
   "codemirror_mode": {
    "name": "ipython",
    "version": 3
   },
   "file_extension": ".py",
   "mimetype": "text/x-python",
   "name": "python",
   "nbconvert_exporter": "python",
   "pygments_lexer": "ipython3",
   "version": "3.12.3"
  }
 },
 "nbformat": 4,
 "nbformat_minor": 5
}
