{
 "cells": [
  {
   "cell_type": "markdown",
   "id": "3dfe49fe-7f90-414f-a68f-ca3f1e21867d",
   "metadata": {},
   "source": [
    "# Cuaderno de Entrenamiento del Modelo de Machine Learning\n",
    "\n",
    "# Fase 1: Carga y Preparación de Datos"
   ]
  },
  {
   "cell_type": "code",
   "execution_count": 1,
   "id": "41b36fe2-bb1e-4cbf-8fd0-dd8e2fd03a87",
   "metadata": {
    "execution": {
     "iopub.execute_input": "2025-10-08T02:51:27.111066Z",
     "iopub.status.busy": "2025-10-08T02:51:27.110337Z",
     "iopub.status.idle": "2025-10-08T02:51:28.773209Z",
     "shell.execute_reply": "2025-10-08T02:51:28.772120Z"
    }
   },
   "outputs": [],
   "source": [
    "import pandas as pd\n",
    "from sqlalchemy import create_engine\n",
    "import os\n",
    "import sys\n",
    "import json\n",
    "import pickle\n",
    "import warnings\n",
    "import numpy as np\n",
    "from dotenv import load_dotenv\n",
    "from sklearn.model_selection import KFold\n",
    "from sklearn.ensemble import RandomForestRegressor\n",
    "from xgboost import XGBRegressor\n",
    "from sklearn.metrics import mean_squared_error, r2_score\n",
    "\n",
    "sys.path.append(os.path.abspath(os.path.join('..')))\n",
    "from src.ml.feature_engineering import crear_features_nlp, guardar_vectorizer\n",
    "\n",
    "warnings.simplefilter(action='ignore', category=FutureWarning)\n",
    "\n",
    "load_dotenv(dotenv_path='../.env')\n",
    "\n",
    "def get_data_from_db():\n",
    "    try:\n",
    "        db_user = os.getenv(\"DB_USER\")\n",
    "        db_password = os.getenv(\"DB_PASSWORD\")\n",
    "        db_host = os.getenv(\"DB_HOST\")\n",
    "        db_name = os.getenv(\"DB_NAME\")\n",
    "        db_uri = f\"mysql+mysqlconnector://{db_user}:{db_password}@{db_host}/{db_name}\"\n",
    "        engine = create_engine(db_uri)\n",
    "        query = \"SELECT price_usd, barrio, ambientes, dormitorios, banos, superficie_total_m2, cocheras, description FROM propiedades WHERE price_usd IS NOT NULL AND superficie_total_m2 IS NOT NULL;\"\n",
    "        df = pd.read_sql(query, engine)\n",
    "        return df\n",
    "    except Exception as e:\n",
    "        return None\n",
    "\n",
    "df_modelo = get_data_from_db()\n"
   ]
  },
  {
   "cell_type": "markdown",
   "id": "7e67f584-0cc2-4f04-95f5-0619219e2948",
   "metadata": {},
   "source": [
    "# Fase 2: Pre-procesamiento y Feature Engineering con TF-IDF"
   ]
  },
  {
   "cell_type": "code",
   "execution_count": 2,
   "id": "b456827b-267f-4156-8a24-59a6c34ea8b6",
   "metadata": {
    "execution": {
     "iopub.execute_input": "2025-10-08T02:51:28.777579Z",
     "iopub.status.busy": "2025-10-08T02:51:28.776649Z",
     "iopub.status.idle": "2025-10-08T02:51:28.782193Z",
     "shell.execute_reply": "2025-10-08T02:51:28.781308Z"
    }
   },
   "outputs": [],
   "source": [
    "if df_modelo is not None:\n",
    "    df_nlp_features, tfidf_vectorizer = crear_features_nlp(df_modelo, 'description')\n",
    "    df_enriquecido = pd.concat([df_modelo.drop('description', axis=1), df_nlp_features], axis=1)\n",
    "    X = df_enriquecido.drop(['price_usd'], axis=1)\n",
    "    y = df_enriquecido['price_usd']\n",
    "    if 'barrio' in X.columns:\n",
    "        X_codificado = pd.get_dummies(X, columns=['barrio'], drop_first=True, dtype=int)\n"
   ]
  },
  {
   "cell_type": "markdown",
   "id": "65986e0e-70df-4d9c-95b8-6d2a5e04df04",
   "metadata": {},
   "source": [
    "# Fase 3: Comparación de Modelos con K-Fold Cross-Validation"
   ]
  },
  {
   "cell_type": "code",
   "execution_count": 3,
   "id": "bdb69de2-73ec-41eb-bba7-c4565769e548",
   "metadata": {
    "execution": {
     "iopub.execute_input": "2025-10-08T02:51:28.785839Z",
     "iopub.status.busy": "2025-10-08T02:51:28.785426Z",
     "iopub.status.idle": "2025-10-08T02:51:28.795230Z",
     "shell.execute_reply": "2025-10-08T02:51:28.793970Z"
    }
   },
   "outputs": [],
   "source": [
    "if 'X_codificado' in locals():\n",
    "    kf = KFold(n_splits=5, shuffle=True, random_state=42)\n",
    "    \n",
    "    rf_r2_scores, rf_rmse_scores = [], []\n",
    "    xgb_r2_scores, xgb_rmse_scores = [], []\n",
    "    \n",
    "    for fold, (train_index, val_index) in enumerate(kf.split(X_codificado, y)):\n",
    "        X_train, X_val = X_codificado.iloc[train_index], X_codificado.iloc[val_index]\n",
    "        y_train, y_val = y.iloc[train_index], y.iloc[val_index]\n",
    "        \n",
    "        # RandomForest\n",
    "        rf_model = RandomForestRegressor(n_estimators=100, random_state=42, n_jobs=-1)\n",
    "        rf_model.fit(X_train, y_train)\n",
    "        y_pred_rf = rf_model.predict(X_val)\n",
    "        rf_r2_scores.append(r2_score(y_val, y_pred_rf))\n",
    "        rf_rmse_scores.append(np.sqrt(mean_squared_error(y_val, y_pred_rf)))\n",
    "        \n",
    "        # XGBoost\n",
    "        xgb_model = XGBRegressor(n_estimators=100, random_state=42, n_jobs=-1)\n",
    "        xgb_model.fit(X_train, y_train)\n",
    "        y_pred_xgb = xgb_model.predict(X_val)\n",
    "        xgb_r2_scores.append(r2_score(y_val, y_pred_xgb))\n",
    "        xgb_rmse_scores.append(np.sqrt(mean_squared_error(y_val, y_pred_xgb)))\n",
    "\n",
    "    print(\"--- Resultados de Cross-Validation ---\")\n",
    "    print(f\"RandomForest - R² Promedio: {np.mean(rf_r2_scores):.4f} (± {np.std(rf_r2_scores):.4f})\")\n",
    "    print(f\"RandomForest - RMSE Promedio: ${np.mean(rf_rmse_scores):,.2f} USD (± ${np.std(rf_rmse_scores):,.2f})\")\n",
    "    print(f\"XGBoost - R² Promedio: {np.mean(xgb_r2_scores):.4f} (± {np.std(xgb_r2_scores):.4f})\")\n",
    "    print(f\"XGBoost - RMSE Promedio: ${np.mean(xgb_rmse_scores):,.2f} USD (± ${np.std(xgb_rmse_scores):,.2f})\")\n"
   ]
  },
  {
   "cell_type": "markdown",
   "id": "92225d26-3da3-4196-b0d4-6de03a0affda",
   "metadata": {},
   "source": [
    "# Fase 4: Selección y Entrenamiento del Modelo Final"
   ]
  },
  {
   "cell_type": "code",
   "execution_count": 4,
   "id": "d7ea96d3-e788-4ad8-b562-23cefb2aceed",
   "metadata": {
    "execution": {
     "iopub.execute_input": "2025-10-08T02:51:28.800030Z",
     "iopub.status.busy": "2025-10-08T02:51:28.799576Z",
     "iopub.status.idle": "2025-10-08T02:51:28.807568Z",
     "shell.execute_reply": "2025-10-08T02:51:28.806565Z"
    }
   },
   "outputs": [],
   "source": [
    "if 'X_codificado' in locals():\n",
    "    if np.mean(xgb_rmse_scores) < np.mean(rf_rmse_scores):\n",
    "        final_model = XGBRegressor(n_estimators=100, random_state=42, n_jobs=-1)\n",
    "        final_metrics = {\n",
    "            \"model\": \"XGBoost\",\n",
    "            \"r2_score_mean\": np.mean(xgb_r2_scores),\n",
    "            \"r2_score_std\": np.std(xgb_r2_scores),\n",
    "            \"rmse_usd_mean\": np.mean(xgb_rmse_scores),\n",
    "            \"rmse_usd_std\": np.std(xgb_rmse_scores)\n",
    "        }\n",
    "    else:\n",
    "        final_model = RandomForestRegressor(n_estimators=100, random_state=42, n_jobs=-1)\n",
    "        final_metrics = {\n",
    "            \"model\": \"RandomForest\",\n",
    "            \"r2_score_mean\": np.mean(rf_r2_scores),\n",
    "            \"r2_score_std\": np.std(rf_r2_scores),\n",
    "            \"rmse_usd_mean\": np.mean(rf_rmse_scores),\n",
    "            \"rmse_usd_std\": np.std(rf_rmse_scores)\n",
    "        }\n",
    "\n",
    "    final_model.fit(X_codificado, y)\n",
    "\n",
    "    model_dir = '../src/ml/'\n",
    "    os.makedirs(model_dir, exist_ok=True)\n",
    "    \n",
    "    with open(os.path.join(model_dir, 'model.pkl'), 'wb') as f: pickle.dump(final_model, f)\n",
    "    with open(os.path.join(model_dir, 'model_columns.pkl'), 'wb') as f: pickle.dump(list(X_codificado.columns), f)\n",
    "    guardar_vectorizer(tfidf_vectorizer, os.path.join(model_dir, 'tfidf_vectorizer.pkl'))\n",
    "    with open(os.path.join(model_dir, 'metrics.json'), 'w') as f: json.dump(final_metrics, f, indent=4)\n"
   ]
  }
 ],
 "metadata": {
  "kernelspec": {
   "display_name": "Python 3 (ipykernel)",
   "language": "python",
   "name": "python3"
  },
  "language_info": {
   "codemirror_mode": {
    "name": "ipython",
    "version": 3
   },
   "file_extension": ".py",
   "mimetype": "text/x-python",
   "name": "python",
   "nbconvert_exporter": "python",
   "pygments_lexer": "ipython3",
   "version": "3.12.3"
  }
 },
 "nbformat": 4,
 "nbformat_minor": 5
}
