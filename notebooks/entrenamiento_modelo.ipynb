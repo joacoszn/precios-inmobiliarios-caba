{
 "cells": [
  {
   "cell_type": "markdown",
   "id": "3dfe49fe-7f90-414f-a68f-ca3f1e21867d",
   "metadata": {},
   "source": [
    "# Cuaderno de Entrenamiento del Modelo de Machine Learning\n",
    "\n",
    "# Fase 1: Carga y Preparación de Datos"
   ]
  },
  {
   "cell_type": "code",
   "execution_count": 1,
   "id": "41b36fe2-bb1e-4cbf-8fd0-dd8e2fd03a87",
   "metadata": {
    "execution": {
     "iopub.execute_input": "2025-10-08T03:06:35.387495Z",
     "iopub.status.busy": "2025-10-08T03:06:35.387136Z",
     "iopub.status.idle": "2025-10-08T03:06:39.181384Z",
     "shell.execute_reply": "2025-10-08T03:06:39.179818Z"
    }
   },
   "outputs": [],
   "source": [
    "import pandas as pd\n",
    "from sqlalchemy import create_engine\n",
    "import os\n",
    "import sys\n",
    "import json\n",
    "import pickle\n",
    "import warnings\n",
    "import numpy as np\n",
    "from dotenv import load_dotenv\n",
    "from sklearn.model_selection import KFold, RandomizedSearchCV\n",
    "from sklearn.ensemble import RandomForestRegressor\n",
    "from xgboost import XGBRegressor\n",
    "from sklearn.metrics import mean_squared_error, r2_score\n",
    "\n",
    "sys.path.append(os.path.abspath(os.path.join('..')))\n",
    "from src.ml.feature_engineering import crear_features_nlp, guardar_vectorizer\n",
    "\n",
    "warnings.simplefilter(action='ignore', category=FutureWarning)\n",
    "\n",
    "load_dotenv(dotenv_path='../.env')\n",
    "\n",
    "def get_data_from_db():\n",
    "    try:\n",
    "        db_user = os.getenv(\"DB_USER\")\n",
    "        db_password = os.getenv(\"DB_PASSWORD\")\n",
    "        db_host = os.getenv(\"DB_HOST\")\n",
    "        db_name = os.getenv(\"DB_NAME\")\n",
    "        db_uri = f\"mysql+mysqlconnector://{db_user}:{db_password}@{db_host}/{db_name}\"\n",
    "        engine = create_engine(db_uri)\n",
    "        query = \"SELECT price_usd, barrio, ambientes, dormitorios, banos, superficie_total_m2, cocheras, description FROM propiedades WHERE price_usd IS NOT NULL AND superficie_total_m2 IS NOT NULL;\"\n",
    "        df = pd.read_sql(query, engine)\n",
    "        return df\n",
    "    except Exception as e:\n",
    "        return None\n",
    "\n",
    "df_modelo = get_data_from_db()\n"
   ]
  },
  {
   "cell_type": "markdown",
   "id": "7e67f584-0cc2-4f04-95f5-0619219e2948",
   "metadata": {},
   "source": [
    "# Fase 2: Pre-procesamiento y Feature Engineering con TF-IDF"
   ]
  },
  {
   "cell_type": "code",
   "execution_count": 2,
   "id": "b456827b-267f-4156-8a24-59a6c34ea8b6",
   "metadata": {
    "execution": {
     "iopub.execute_input": "2025-10-08T03:06:39.190469Z",
     "iopub.status.busy": "2025-10-08T03:06:39.189689Z",
     "iopub.status.idle": "2025-10-08T03:06:50.828735Z",
     "shell.execute_reply": "2025-10-08T03:06:50.827665Z"
    }
   },
   "outputs": [],
   "source": [
    "if df_modelo is not None:\n",
    "    df_nlp_features, tfidf_vectorizer = crear_features_nlp(df_modelo, 'description')\n",
    "    df_enriquecido = pd.concat([df_modelo.drop('description', axis=1), df_nlp_features], axis=1)\n",
    "    X = df_enriquecido.drop(['price_usd'], axis=1)\n",
    "    y = df_enriquecido['price_usd']\n",
    "    if 'barrio' in X.columns:\n",
    "        X_codificado = pd.get_dummies(X, columns=['barrio'], drop_first=True, dtype=int)\n"
   ]
  },
  {
   "cell_type": "markdown",
   "id": "65986e0e-70df-4d9c-95b8-6d2a5e04df04",
   "metadata": {},
   "source": [
    "# Fase 3: Comparación de Modelos con K-Fold Cross-Validation"
   ]
  },
  {
   "cell_type": "code",
   "execution_count": 3,
   "id": "bdb69de2-73ec-41eb-bba7-c4565769e548",
   "metadata": {
    "execution": {
     "iopub.execute_input": "2025-10-08T03:06:50.832578Z",
     "iopub.status.busy": "2025-10-08T03:06:50.832187Z",
     "iopub.status.idle": "2025-10-08T03:26:55.445036Z",
     "shell.execute_reply": "2025-10-08T03:26:55.443161Z"
    }
   },
   "outputs": [
    {
     "name": "stdout",
     "output_type": "stream",
     "text": [
      "--- Iniciando Búsqueda para RandomForest ---\n",
      "Fitting 5 folds for each of 10 candidates, totalling 50 fits\n"
     ]
    },
    {
     "name": "stdout",
     "output_type": "stream",
     "text": [
      "--- Iniciando Búsqueda para XGBoost ---\n",
      "Fitting 5 folds for each of 10 candidates, totalling 50 fits\n"
     ]
    },
    {
     "name": "stdout",
     "output_type": "stream",
     "text": [
      "\n",
      "--- Resultados de la Búsqueda Aleatoria ---\n",
      "RandomForest - Mejor RMSE: 141776.73 USD\n",
      "RandomForest - Mejores Parámetros: {'n_estimators': 100, 'min_samples_split': 5, 'min_samples_leaf': 1, 'max_features': 'sqrt', 'max_depth': 30}\n",
      "XGBoost - Mejor RMSE: 116397.99 USD\n",
      "XGBoost - Mejores Parámetros: {'subsample': 1.0, 'n_estimators': 300, 'max_depth': 7, 'learning_rate': 0.1, 'colsample_bytree': 1.0}\n"
     ]
    }
   ],
   "source": [
    "if 'X_codificado' in locals():\n",
    "    # Definir la grilla de parámetros para RandomForest\n",
    "    param_grid_rf = {\n",
    "        'n_estimators': [100, 200, 300],\n",
    "        'max_depth': [10, 20, 30, None],\n",
    "        'min_samples_split': [2, 5, 10],\n",
    "        'min_samples_leaf': [1, 2, 4],\n",
    "        'max_features': ['sqrt', 'log2']\n",
    "    }\n",
    "\n",
    "    # Definir la grilla de parámetros para XGBoost\n",
    "    param_grid_xgb = {\n",
    "        'n_estimators': [100, 200, 300],\n",
    "        'learning_rate': [0.01, 0.1, 0.2],\n",
    "        'max_depth': [3, 5, 7],\n",
    "        'subsample': [0.7, 0.8, 1.0],\n",
    "        'colsample_bytree': [0.7, 0.8, 1.0]\n",
    "    }\n",
    "\n",
    "    # RandomizedSearchCV para RandomForest\n",
    "    rf_random_search = RandomizedSearchCV(\n",
    "        estimator=RandomForestRegressor(random_state=42),\n",
    "        param_distributions=param_grid_rf,\n",
    "        n_iter=10,  # Número de combinaciones a probar\n",
    "        cv=5,\n",
    "        scoring='neg_root_mean_squared_error',\n",
    "        verbose=2,\n",
    "        random_state=42,\n",
    "        n_jobs=-1\n",
    "    )\n",
    "    print(\"--- Iniciando Búsqueda para RandomForest ---\")\n",
    "    rf_random_search.fit(X_codificado, y)\n",
    "\n",
    "    # RandomizedSearchCV para XGBoost\n",
    "    xgb_random_search = RandomizedSearchCV(\n",
    "        estimator=XGBRegressor(random_state=42),\n",
    "        param_distributions=param_grid_xgb,\n",
    "        n_iter=10,\n",
    "        cv=5,\n",
    "        scoring='neg_root_mean_squared_error',\n",
    "        verbose=2,\n",
    "        random_state=42,\n",
    "        n_jobs=-1\n",
    "    )\n",
    "    print(\"--- Iniciando Búsqueda para XGBoost ---\")\n",
    "    xgb_random_search.fit(X_codificado, y)\n",
    "\n",
    "    print(\"\\n--- Resultados de la Búsqueda Aleatoria ---\")\n",
    "    print(f\"RandomForest - Mejor RMSE: {-rf_random_search.best_score_:.2f} USD\")\n",
    "    print(f\"RandomForest - Mejores Parámetros: {rf_random_search.best_params_}\")\n",
    "    print(f\"XGBoost - Mejor RMSE: {-xgb_random_search.best_score_:.2f} USD\")\n",
    "    print(f\"XGBoost - Mejores Parámetros: {xgb_random_search.best_params_}\")\n"
   ]
  },
  {
   "cell_type": "markdown",
   "id": "92225d26-3da3-4196-b0d4-6de03a0affda",
   "metadata": {},
   "source": [
    "# Fase 4: Selección y Entrenamiento del Modelo Final"
   ]
  },
  {
   "cell_type": "code",
   "execution_count": 4,
   "id": "d7ea96d3-e788-4ad8-b562-23cefb2aceed",
   "metadata": {
    "execution": {
     "iopub.execute_input": "2025-10-08T03:26:55.454915Z",
     "iopub.status.busy": "2025-10-08T03:26:55.453983Z",
     "iopub.status.idle": "2025-10-08T03:28:45.555920Z",
     "shell.execute_reply": "2025-10-08T03:28:45.554956Z"
    }
   },
   "outputs": [
    {
     "name": "stdout",
     "output_type": "stream",
     "text": [
      "Modelo Ganador: XGBoost\n"
     ]
    },
    {
     "name": "stdout",
     "output_type": "stream",
     "text": [
      "Métricas Finales: {'model': 'XGBoost', 'best_params': {'subsample': 1.0, 'n_estimators': 300, 'max_depth': 7, 'learning_rate': 0.1, 'colsample_bytree': 1.0}, 'r2_score_mean': 0.9141472864905144, 'r2_score_std': 0.03549961541411899, 'rmse_usd_mean': 116397.9899188918, 'rmse_usd_std': 22375.878473124474}\n"
     ]
    }
   ],
   "source": [
    "if 'X_codificado' in locals():\n",
    "    # Comparar los mejores scores (recordar que son negativos)\n",
    "    if xgb_random_search.best_score_ > rf_random_search.best_score_:\n",
    "        print(\"Modelo Ganador: XGBoost\")\n",
    "        final_model = xgb_random_search.best_estimator_\n",
    "        best_search = xgb_random_search\n",
    "        model_name = \"XGBoost\"\n",
    "    else:\n",
    "        print(\"Modelo Ganador: RandomForest\")\n",
    "        final_model = rf_random_search.best_estimator_\n",
    "        best_search = rf_random_search\n",
    "        model_name = \"RandomForest\"\n",
    "\n",
    "    # Crear el diccionario de métricas\n",
    "    # Necesitamos el R² score, que no está en el search. Lo calculamos con cross_val_score.\n",
    "    from sklearn.model_selection import cross_val_score\n",
    "    r2_scores = cross_val_score(final_model, X_codificado, y, cv=5, scoring='r2')\n",
    "\n",
    "    final_metrics = {\n",
    "        \"model\": model_name,\n",
    "        \"best_params\": best_search.best_params_,\n",
    "        \"r2_score_mean\": np.mean(r2_scores),\n",
    "        \"r2_score_std\": np.std(r2_scores),\n",
    "        \"rmse_usd_mean\": -best_search.best_score_,\n",
    "        \"rmse_usd_std\": best_search.cv_results_['std_test_score'][best_search.best_index_]\n",
    "    }\n",
    "    \n",
    "    print(f\"Métricas Finales: {final_metrics}\")\n",
    "\n",
    "    # Re-entrenar el modelo final con todos los datos (best_estimator_ ya está entrenado, pero es buena práctica hacerlo explícito)\n",
    "    final_model.fit(X_codificado, y)\n",
    "\n",
    "    # Guardar artefactos\n",
    "    model_dir = '../src/ml/'\n",
    "    os.makedirs(model_dir, exist_ok=True)\n",
    "    \n",
    "    with open(os.path.join(model_dir, 'model.pkl'), 'wb') as f: pickle.dump(final_model, f)\n",
    "    with open(os.path.join(model_dir, 'model_columns.pkl'), 'wb') as f: pickle.dump(list(X_codificado.columns), f)\n",
    "    guardar_vectorizer(tfidf_vectorizer, os.path.join(model_dir, 'tfidf_vectorizer.pkl'))\n",
    "    with open(os.path.join(model_dir, 'metrics.json'), 'w') as f: json.dump(final_metrics, f, indent=4)\n"
   ]
  }
 ],
 "metadata": {
  "kernelspec": {
   "display_name": "Python 3 (ipykernel)",
   "language": "python",
   "name": "python3"
  },
  "language_info": {
   "codemirror_mode": {
    "name": "ipython",
    "version": 3
   },
   "file_extension": ".py",
   "mimetype": "text/x-python",
   "name": "python",
   "nbconvert_exporter": "python",
   "pygments_lexer": "ipython3",
   "version": "3.12.3"
  }
 },
 "nbformat": 4,
 "nbformat_minor": 5
}
